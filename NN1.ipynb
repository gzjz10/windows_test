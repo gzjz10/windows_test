{
 "cells": [
  {
   "cell_type": "markdown",
   "metadata": {},
   "source": [
    "## code for natural network"
   ]
  },
  {
   "cell_type": "code",
   "execution_count": 1,
   "metadata": {},
   "outputs": [],
   "source": [
    "import numpy as np"
   ]
  },
  {
   "cell_type": "code",
   "execution_count": 2,
   "metadata": {},
   "outputs": [
    {
     "name": "stdout",
     "output_type": "stream",
     "text": [
      "Input: [0 0], Target: [0], Prediction: [0.01859576]\n",
      "Input: [0 1], Target: [1], Prediction: [0.98296197]\n",
      "Input: [1 0], Target: [1], Prediction: [0.98741403]\n",
      "Input: [1 1], Target: [0], Prediction: [0.01498952]\n"
     ]
    }
   ],
   "source": [
    "def sigmoid(x):\n",
    "    return 1 / (1 + np.exp(-x))\n",
    "\n",
    "def sigmoid_derivative(x):\n",
    "    return x * (1 - x)\n",
    "\n",
    "class SimpleNeuralNetwork:\n",
    "    def __init__(self, input_size, hidden_size, output_size):\n",
    "        self.weights1 = np.random.randn(input_size, hidden_size)\n",
    "        self.weights2 = np.random.randn(hidden_size, output_size)\n",
    "    \n",
    "    def forward(self, X):\n",
    "        self.hidden = sigmoid(np.dot(X, self.weights1))\n",
    "        self.output = sigmoid(np.dot(self.hidden, self.weights2))\n",
    "        return self.output\n",
    "    \n",
    "    def backward(self, X, y, output):\n",
    "        self.output_error = y - output\n",
    "        self.output_delta = self.output_error * sigmoid_derivative(output)\n",
    "        \n",
    "        self.hidden_error = np.dot(self.output_delta, self.weights2.T)\n",
    "        self.hidden_delta = self.hidden_error * sigmoid_derivative(self.hidden)\n",
    "        \n",
    "        self.weights2 += np.dot(self.hidden.T, self.output_delta)\n",
    "        self.weights1 += np.dot(X.T, self.hidden_delta)\n",
    "    \n",
    "    def train(self, X, y, epochs):\n",
    "        for _ in range(epochs):\n",
    "            output = self.forward(X)\n",
    "            self.backward(X, y, output)\n",
    "\n",
    "# XOR dataset\n",
    "X = np.array([[0,0], [0,1], [1,0], [1,1]])\n",
    "y = np.array([[0], [1], [1], [0]])\n",
    "\n",
    "# Create and train the neural network\n",
    "nn = SimpleNeuralNetwork(2, 4, 1)\n",
    "nn.train(X, y, 10000)\n",
    "\n",
    "# Test the trained network\n",
    "for i in range(len(X)):\n",
    "    prediction = nn.forward(X[i:i+1])\n",
    "    print(f\"Input: {X[i]}, Target: {y[i]}, Prediction: {prediction[0]}\")"
   ]
  }
 ],
 "metadata": {
  "kernelspec": {
   "display_name": "Python 3",
   "language": "python",
   "name": "python3"
  },
  "language_info": {
   "codemirror_mode": {
    "name": "ipython",
    "version": 3
   },
   "file_extension": ".py",
   "mimetype": "text/x-python",
   "name": "python",
   "nbconvert_exporter": "python",
   "pygments_lexer": "ipython3",
   "version": "3.11.9"
  }
 },
 "nbformat": 4,
 "nbformat_minor": 2
}
